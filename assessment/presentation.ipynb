{
 "cells": [
  {
   "cell_type": "code",
   "execution_count": 1,
   "id": "287f707e-0dbc-43bf-930e-eafcf01468a2",
   "metadata": {},
   "outputs": [
    {
     "name": "stderr",
     "output_type": "stream",
     "text": [
      "/var/folders/nj/wd0p0vs57mz6bm0lqmcpm4th0000gn/T/ipykernel_48170/2925816044.py:4: DeprecationWarning: \n",
      "Pyarrow will become a required dependency of pandas in the next major release of pandas (pandas 3.0),\n",
      "(to allow more performant data types, such as the Arrow string type, and better interoperability with other libraries)\n",
      "but was not found to be installed on your system.\n",
      "If this would cause problems for you,\n",
      "please provide us feedback at https://github.com/pandas-dev/pandas/issues/54466\n",
      "        \n",
      "  import pandas as pd\n"
     ]
    }
   ],
   "source": [
    "import re\n",
    "import csv\n",
    "import sqlite3\n",
    "import pandas as pd\n",
    "from pathlib import Path"
   ]
  },
  {
   "cell_type": "code",
   "execution_count": 2,
   "id": "4b3141bd-3ee5-4b90-b60e-4a5d66082dd2",
   "metadata": {},
   "outputs": [
    {
     "name": "stderr",
     "output_type": "stream",
     "text": [
      "/var/folders/nj/wd0p0vs57mz6bm0lqmcpm4th0000gn/T/ipykernel_48170/3371146526.py:3: DtypeWarning: Columns (3,6,7,9,10,11,12,13,14,15,18,19,27,28,29,30,31,32,33,34,35,36,44,45,46,47,48,49,50,51,52,53,54,55,56,57,58,59,66,67,69,70,71,72,73,74,75,76,84,85,86,87,89,90,91,92,93,94,95,96,104,105,106,107,109,110,111,112,113,114,115,116,124,125,126,127,129,130,131,132,133,134,135,136,144,145,146,147,149,150,151,152,153,154,155,156,164,165,166,167,169,170,171,172,173,174,175,176,184,185,186,187,189,190,191,192,193,194,195,196,204,205,206,207,209,210,211,212,213,214,215,216,224,225,226,227,229,230,231,232,233,234,235,236,244,245,246,247,249,253,254,255,256,257,258,259,275,276) have mixed types. Specify dtype option on import or set low_memory=False.\n",
      "  data = pd.read_csv(csv_file)\n"
     ]
    }
   ],
   "source": [
    "# Load the CSV file\n",
    "csv_file = 'covid_submissions_all_info.csv'\n",
    "data = pd.read_csv(csv_file)"
   ]
  },
  {
   "cell_type": "code",
   "execution_count": 3,
   "id": "c07b7289-558c-429a-91eb-ae09bb601412",
   "metadata": {},
   "outputs": [
    {
     "name": "stderr",
     "output_type": "stream",
     "text": [
      "IOPub data rate exceeded.\n",
      "The Jupyter server will temporarily stop sending output\n",
      "to the client in order to avoid crashing it.\n",
      "To change this limit, set the config variable\n",
      "`--ServerApp.iopub_data_rate_limit`.\n",
      "\n",
      "Current values:\n",
      "ServerApp.iopub_data_rate_limit=1000000.0 (bytes/sec)\n",
      "ServerApp.rate_limit_window=3.0 (secs)\n",
      "\n"
     ]
    }
   ],
   "source": [
    "# Define a function to count the number of 'rule of five' violations\n",
    "def rule_of_five_violations(row):\n",
    "    violations = sum([\n",
    "        row['HBD'] > 5,\n",
    "        row['HBA'] > 10,\n",
    "        row['MW'] >= 500,\n",
    "        row['cLogP'] >= 5\n",
    "    ])\n",
    "    return violations\n",
    "\n",
    "# Apply the function to the data\n",
    "data['rule_of_five_violations'] = data.apply(rule_of_five_violations, axis=1)\n",
    "\n",
    "# Filter out compounds that violate more than one rule\n",
    "rule_of_five_data = data[data['rule_of_five_violations'] <= 1]\n",
    "\n",
    "# Extract data for the 'compounds' and 'rule_of_five_compliant_compounds' tables\n",
    "smiles_data = data[['CID', 'SMILES', 'HBD', 'HBA', 'MW', 'cLogP']].drop_duplicates()\n",
    "\n",
    "# Select relevant columns for 'assays'\n",
    "columns_of_interest = ['CID', 'f_avg_IC50', 'r_avg_IC50']\n",
    "assay_data = data[columns_of_interest]\n",
    "\n",
    "# Create a new SQLite database\n",
    "database_file = 'assays_database.db'\n",
    "conn = sqlite3.connect(database_file)\n",
    "cursor = conn.cursor()\n",
    "\n",
    "# Create the 'compounds' table \n",
    "cursor.execute('''\n",
    "    CREATE TABLE IF NOT EXISTS compounds (\n",
    "        CID TEXT PRIMARY KEY,\n",
    "        SMILES TEXT,\n",
    "        HBD INTEGER,\n",
    "        HBA INTEGER,\n",
    "        MW REAL,\n",
    "        cLogP REAL\n",
    "    );           \n",
    "''')\n",
    "\n",
    "# Create the 'rule_of_five_compliant_compounds' table\n",
    "cursor.execute('''\n",
    "    CREATE TABLE IF NOT EXISTS rule_of_five_compliant_compounds (\n",
    "        CID TEXT PRIMARY KEY,\n",
    "        SMILES TEXT,\n",
    "        HBD INTEGER,\n",
    "        HBA INTEGER,\n",
    "        MW REAL,\n",
    "        cLogP REAL\n",
    "    );\n",
    "''')\n",
    "\n",
    "# Populate the 'compounds' table\n",
    "for _, row in smiles_data.iterrows():\n",
    "    cursor.execute('''\n",
    "        INSERT OR IGNORE INTO compounds (CID, SMILES, HBD, HBA, MW, cLogP) \n",
    "        VALUES (?, ?, ?, ?, ?, ?)\n",
    "    ''', (row['CID'], row['SMILES'], row['HBD'], row['HBA'], row['MW'], row['cLogP']))\n",
    "\n",
    "# Populate the 'rule_of_five_compliant_compounds' table\n",
    "for _, row in rule_of_five_data.iterrows():\n",
    "    cursor.execute('''\n",
    "        INSERT OR IGNORE INTO rule_of_five_compliant_compounds (CID, SMILES, HBD, HBA, MW, cLogP) \n",
    "        VALUES (?, ?, ?, ?, ?, ?)\n",
    "    ''', (row['CID'], row['SMILES'], row['HBD'], row['HBA'], row['MW'], row['cLogP']))\n",
    "\n",
    "# Create the 'assays' table with a foreign key\n",
    "cursor.execute('''\n",
    "    CREATE TABLE IF NOT EXISTS assays (\n",
    "        CID TEXT,\n",
    "        f_avg_IC50 REAL,\n",
    "        r_avg_IC50 REAL,\n",
    "        FOREIGN KEY (CID) REFERENCES compounds(CID)\n",
    "    );\n",
    "''')\n",
    "\n",
    "# Populate the 'assays' data into the table\n",
    "for _, row in assay_data.iterrows():\n",
    "    cursor.execute('''\n",
    "        INSERT INTO assays (CID, f_avg_IC50, r_avg_IC50) \n",
    "        VALUES (?, ?, ?)\n",
    "    ''', (row['CID'], row['f_avg_IC50'], row['r_avg_IC50']))\n",
    "\n",
    "# Commit changes and close the connection\n",
    "conn.commit()\n",
    "\n",
    "# Demonstrate an SQL query for joining the two tables\n",
    "cursor.execute('''\n",
    "    SELECT c.CID, c.SMILES, a.f_avg_IC50, a.r_avg_IC50\n",
    "    FROM compounds c\n",
    "    JOIN assays a ON c.CID = a.CID\n",
    "''')\n",
    "\n",
    "# Fetch and print the result of the query\n",
    "joined_data = cursor.fetchall()\n",
    "for row in joined_data:\n",
    "    print(row)\n",
    "\n",
    "conn.close()\n",
    "\n",
    "print(\"Database and tables created successfully with the data.\")"
   ]
  },
  {
   "cell_type": "code",
   "execution_count": null,
   "id": "20ccf36d-4a03-423a-b4d1-070f76ad2afb",
   "metadata": {},
   "outputs": [],
   "source": []
  }
 ],
 "metadata": {
  "kernelspec": {
   "display_name": "Python 3 (ipykernel)",
   "language": "python",
   "name": "python3"
  },
  "language_info": {
   "codemirror_mode": {
    "name": "ipython",
    "version": 3
   },
   "file_extension": ".py",
   "mimetype": "text/x-python",
   "name": "python",
   "nbconvert_exporter": "python",
   "pygments_lexer": "ipython3",
   "version": "3.11.7"
  }
 },
 "nbformat": 4,
 "nbformat_minor": 5
}
